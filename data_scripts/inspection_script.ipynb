{
 "cells": [
  {
   "cell_type": "code",
   "execution_count": 2,
   "metadata": {},
   "outputs": [],
   "source": [
    "import pandas as pd\n",
    "import json"
   ]
  },
  {
   "cell_type": "code",
   "execution_count": 7,
   "metadata": {},
   "outputs": [
    {
     "data": {
      "text/html": [
       "<div>\n",
       "<style scoped>\n",
       "    .dataframe tbody tr th:only-of-type {\n",
       "        vertical-align: middle;\n",
       "    }\n",
       "\n",
       "    .dataframe tbody tr th {\n",
       "        vertical-align: top;\n",
       "    }\n",
       "\n",
       "    .dataframe thead th {\n",
       "        text-align: right;\n",
       "    }\n",
       "</style>\n",
       "<table border=\"1\" class=\"dataframe\">\n",
       "  <thead>\n",
       "    <tr style=\"text-align: right;\">\n",
       "      <th></th>\n",
       "      <th>category_id</th>\n",
       "      <th>image_id</th>\n",
       "      <th>name</th>\n",
       "      <th>supercategory</th>\n",
       "    </tr>\n",
       "  </thead>\n",
       "  <tbody>\n",
       "    <tr>\n",
       "      <th>0</th>\n",
       "      <td>650</td>\n",
       "      <td>21942</td>\n",
       "      <td>Leucoagaricus leucothites</td>\n",
       "      <td>Leucoagaricus</td>\n",
       "    </tr>\n",
       "    <tr>\n",
       "      <th>1</th>\n",
       "      <td>650</td>\n",
       "      <td>21943</td>\n",
       "      <td>Leucoagaricus leucothites</td>\n",
       "      <td>Leucoagaricus</td>\n",
       "    </tr>\n",
       "    <tr>\n",
       "      <th>2</th>\n",
       "      <td>650</td>\n",
       "      <td>21944</td>\n",
       "      <td>Leucoagaricus leucothites</td>\n",
       "      <td>Leucoagaricus</td>\n",
       "    </tr>\n",
       "    <tr>\n",
       "      <th>3</th>\n",
       "      <td>650</td>\n",
       "      <td>22210</td>\n",
       "      <td>Leucoagaricus leucothites</td>\n",
       "      <td>Leucoagaricus</td>\n",
       "    </tr>\n",
       "    <tr>\n",
       "      <th>4</th>\n",
       "      <td>650</td>\n",
       "      <td>24812</td>\n",
       "      <td>Leucoagaricus leucothites</td>\n",
       "      <td>Leucoagaricus</td>\n",
       "    </tr>\n",
       "  </tbody>\n",
       "</table>\n",
       "</div>"
      ],
      "text/plain": [
       "   category_id  image_id                       name  supercategory\n",
       "0          650     21942  Leucoagaricus leucothites  Leucoagaricus\n",
       "1          650     21943  Leucoagaricus leucothites  Leucoagaricus\n",
       "2          650     21944  Leucoagaricus leucothites  Leucoagaricus\n",
       "3          650     22210  Leucoagaricus leucothites  Leucoagaricus\n",
       "4          650     24812  Leucoagaricus leucothites  Leucoagaricus"
      ]
     },
     "execution_count": 7,
     "metadata": {},
     "output_type": "execute_result"
    }
   ],
   "source": [
    "with open('data/train_val_annotations/train.json','r') as f:\n",
    "    data = json.loads(f.read())\n",
    "\n",
    "annotations = pd.json_normalize(data, record_path=['annotations']).drop(columns=['id'])\n",
    "categories = pd.json_normalize(data, record_path=['categories'])\n",
    "joined = annotations.merge(categories, left_on='category_id', right_on='id').drop(columns=['id'])\n",
    "joined.head()"
   ]
  },
  {
   "cell_type": "code",
   "execution_count": 39,
   "metadata": {},
   "outputs": [
    {
     "data": {
      "text/html": [
       "<div>\n",
       "<style scoped>\n",
       "    .dataframe tbody tr th:only-of-type {\n",
       "        vertical-align: middle;\n",
       "    }\n",
       "\n",
       "    .dataframe tbody tr th {\n",
       "        vertical-align: top;\n",
       "    }\n",
       "\n",
       "    .dataframe thead th {\n",
       "        text-align: right;\n",
       "    }\n",
       "</style>\n",
       "<table border=\"1\" class=\"dataframe\">\n",
       "  <thead>\n",
       "    <tr style=\"text-align: right;\">\n",
       "      <th></th>\n",
       "      <th>category_id</th>\n",
       "      <th>image_id</th>\n",
       "      <th>name</th>\n",
       "      <th>supercategory</th>\n",
       "    </tr>\n",
       "  </thead>\n",
       "  <tbody>\n",
       "    <tr>\n",
       "      <th>73061</th>\n",
       "      <td>477</td>\n",
       "      <td>10983</td>\n",
       "      <td>Hygrophoropsis aurantiaca</td>\n",
       "      <td>Hygrophoropsis</td>\n",
       "    </tr>\n",
       "    <tr>\n",
       "      <th>73062</th>\n",
       "      <td>477</td>\n",
       "      <td>10984</td>\n",
       "      <td>Hygrophoropsis aurantiaca</td>\n",
       "      <td>Hygrophoropsis</td>\n",
       "    </tr>\n",
       "    <tr>\n",
       "      <th>73063</th>\n",
       "      <td>477</td>\n",
       "      <td>12297</td>\n",
       "      <td>Hygrophoropsis aurantiaca</td>\n",
       "      <td>Hygrophoropsis</td>\n",
       "    </tr>\n",
       "    <tr>\n",
       "      <th>73064</th>\n",
       "      <td>477</td>\n",
       "      <td>14099</td>\n",
       "      <td>Hygrophoropsis aurantiaca</td>\n",
       "      <td>Hygrophoropsis</td>\n",
       "    </tr>\n",
       "    <tr>\n",
       "      <th>73065</th>\n",
       "      <td>477</td>\n",
       "      <td>14846</td>\n",
       "      <td>Hygrophoropsis aurantiaca</td>\n",
       "      <td>Hygrophoropsis</td>\n",
       "    </tr>\n",
       "    <tr>\n",
       "      <th>...</th>\n",
       "      <td>...</td>\n",
       "      <td>...</td>\n",
       "      <td>...</td>\n",
       "      <td>...</td>\n",
       "    </tr>\n",
       "    <tr>\n",
       "      <th>73139</th>\n",
       "      <td>477</td>\n",
       "      <td>138967</td>\n",
       "      <td>Hygrophoropsis aurantiaca</td>\n",
       "      <td>Hygrophoropsis</td>\n",
       "    </tr>\n",
       "    <tr>\n",
       "      <th>73140</th>\n",
       "      <td>477</td>\n",
       "      <td>143245</td>\n",
       "      <td>Hygrophoropsis aurantiaca</td>\n",
       "      <td>Hygrophoropsis</td>\n",
       "    </tr>\n",
       "    <tr>\n",
       "      <th>73141</th>\n",
       "      <td>477</td>\n",
       "      <td>143222</td>\n",
       "      <td>Hygrophoropsis aurantiaca</td>\n",
       "      <td>Hygrophoropsis</td>\n",
       "    </tr>\n",
       "    <tr>\n",
       "      <th>73142</th>\n",
       "      <td>477</td>\n",
       "      <td>143223</td>\n",
       "      <td>Hygrophoropsis aurantiaca</td>\n",
       "      <td>Hygrophoropsis</td>\n",
       "    </tr>\n",
       "    <tr>\n",
       "      <th>73143</th>\n",
       "      <td>477</td>\n",
       "      <td>144017</td>\n",
       "      <td>Hygrophoropsis aurantiaca</td>\n",
       "      <td>Hygrophoropsis</td>\n",
       "    </tr>\n",
       "  </tbody>\n",
       "</table>\n",
       "<p>83 rows × 4 columns</p>\n",
       "</div>"
      ],
      "text/plain": [
       "       category_id  image_id                       name   supercategory\n",
       "73061          477     10983  Hygrophoropsis aurantiaca  Hygrophoropsis\n",
       "73062          477     10984  Hygrophoropsis aurantiaca  Hygrophoropsis\n",
       "73063          477     12297  Hygrophoropsis aurantiaca  Hygrophoropsis\n",
       "73064          477     14099  Hygrophoropsis aurantiaca  Hygrophoropsis\n",
       "73065          477     14846  Hygrophoropsis aurantiaca  Hygrophoropsis\n",
       "...            ...       ...                        ...             ...\n",
       "73139          477    138967  Hygrophoropsis aurantiaca  Hygrophoropsis\n",
       "73140          477    143245  Hygrophoropsis aurantiaca  Hygrophoropsis\n",
       "73141          477    143222  Hygrophoropsis aurantiaca  Hygrophoropsis\n",
       "73142          477    143223  Hygrophoropsis aurantiaca  Hygrophoropsis\n",
       "73143          477    144017  Hygrophoropsis aurantiaca  Hygrophoropsis\n",
       "\n",
       "[83 rows x 4 columns]"
      ]
     },
     "execution_count": 39,
     "metadata": {},
     "output_type": "execute_result"
    }
   ],
   "source": [
    "joined[joined['name'].str.contains('Hygrophoropsis aurantiaca', case=False) == True]"
   ]
  },
  {
   "cell_type": "code",
   "execution_count": 41,
   "metadata": {},
   "outputs": [
    {
     "name": "stdout",
     "output_type": "stream",
     "text": [
      "Boletus edulis: 159\n",
      "Armillaria mellea: 74\n",
      "Rhodocollybia butyracea: 96\n",
      "Cantharellus cibarius: 141\n",
      "Russula: 4112\n",
      "Amanita phalloides: 125\n",
      "Rubroboletus satanas: 43\n",
      "Amanita muscaria: 160\n",
      "Inocybe: 1926\n",
      "Chalciporus piperatus: 68\n",
      "Hypholoma fasciculare: 286\n",
      "Agaricus xanthodermus: 134\n",
      "Russula emetica: 39\n",
      "Hygrophoropsis aurantiaca: 83\n"
     ]
    }
   ],
   "source": [
    "eaten_species = ['Boletus edulis', 'Armillaria mellea', 'Rhodocollybia butyracea',\n",
    "                'Cantharellus cibarius', 'Russula']\n",
    "poison_species = ['Amanita phalloides', 'Rubroboletus satanas',  'Amanita muscaria',\n",
    "                  'Inocybe', 'Chalciporus piperatus', 'Hypholoma fasciculare', 'Agaricus xanthodermus',\n",
    "                  'Russula emetica', 'Hygrophoropsis aurantiaca']\n",
    "\n",
    "for s in eaten_species + poison_species:\n",
    "    s_num = joined[joined['name'].str.contains(s, case=False) == True].shape[0]\n",
    "    print(f'{s}: {s_num}')"
   ]
  },
  {
   "cell_type": "code",
   "execution_count": 4,
   "metadata": {},
   "outputs": [
    {
     "name": "stdout",
     "output_type": "stream",
     "text": [
      "Index(['_id', 'fieldnumber', 'observationDate', 'validationStatus', 'taxon_id',\n",
      "       'taxonFullName', 'originalTaxonNameUsage', 'taxonDanishName',\n",
      "       'taxonRedListCategory', 'locality', 'country', 'decimalLatitude',\n",
      "       'decimalLongitude', 'accuracy', 'reportedBy', 'substrate',\n",
      "       'vegetationType', 'associatedTaxa', 'ecologyNotes', 'notes', 'leg',\n",
      "       'det', 'URI'],\n",
      "      dtype='object')\n"
     ]
    }
   ],
   "source": [
    "df = pd.read_csv('svampeatlasdata.csv')\n",
    "df.head()\n",
    "print(df.columns)"
   ]
  }
 ],
 "metadata": {
  "kernelspec": {
   "display_name": "Python 3",
   "language": "python",
   "name": "python3"
  },
  "language_info": {
   "codemirror_mode": {
    "name": "ipython",
    "version": 3
   },
   "file_extension": ".py",
   "mimetype": "text/x-python",
   "name": "python",
   "nbconvert_exporter": "python",
   "pygments_lexer": "ipython3",
   "version": "3.10.6"
  },
  "orig_nbformat": 4,
  "vscode": {
   "interpreter": {
    "hash": "916dbcbb3f70747c44a77c7bcd40155683ae19c65e1c03b4aa3499c5328201f1"
   }
  }
 },
 "nbformat": 4,
 "nbformat_minor": 2
}
